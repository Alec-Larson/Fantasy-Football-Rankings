{
 "cells": [
  {
   "cell_type": "markdown",
   "id": "ab924d18",
   "metadata": {},
   "source": [
    "### Importing Packages and Loading Data"
   ]
  },
  {
   "cell_type": "code",
   "execution_count": null,
   "id": "9a2429cb",
   "metadata": {},
   "outputs": [],
   "source": [
    "import pandas as pd\n",
    "import numpy as np"
   ]
  },
  {
   "cell_type": "markdown",
   "id": "62b3204f",
   "metadata": {},
   "source": [
    "#### Loading General Fantasy Stats"
   ]
  },
  {
   "cell_type": "code",
   "execution_count": null,
   "id": "3b17e5ac",
   "metadata": {},
   "outputs": [],
   "source": [
    "Fantasy_FB_Data_Raw24 = pd.read_csv('/Users/alexanderlarson/Desktop/Python Projects/Fantasy Football Rankings/Fantasyfb_Data/Fantasy FB Data 2024.csv')\n",
    "Fantasy_FB_Data_Raw23 = pd.read_csv('/Users/alexanderlarson/Desktop/Python Projects/Fantasy Football Rankings/Fantasyfb_Data/Fantasy FB Data 2023.csv')\n",
    "Fantasy_FB_Data_Raw22 = pd.read_csv('/Users/alexanderlarson/Desktop/Python Projects/Fantasy Football Rankings/Fantasyfb_Data/Fantasy FB Data 2022.csv')\n",
    "Fantasy_FB_Data_Raw21 = pd.read_csv('/Users/alexanderlarson/Desktop/Python Projects/Fantasy Football Rankings/Fantasyfb_Data/Fantasy FB Data 2021.csv')\n",
    "Fantasy_FB_Data_Raw20 = pd.read_csv('/Users/alexanderlarson/Desktop/Python Projects/Fantasy Football Rankings/Fantasyfb_Data/Fantasy FB Data 2020.csv')\n",
    "Fantasy_FB_Data_Raw19 = pd.read_csv('/Users/alexanderlarson/Desktop/Python Projects/Fantasy Football Rankings/Fantasyfb_Data/Fantasy FB Data 2019.csv')\n",
    "Fantasy_FB_Data_Raw18 = pd.read_csv('/Users/alexanderlarson/Desktop/Python Projects/Fantasy Football Rankings/Fantasyfb_Data/Fantasy FB Data 2018.csv')\n",
    "Fantasy_FB_Data_Raw17 = pd.read_csv('/Users/alexanderlarson/Desktop/Python Projects/Fantasy Football Rankings/Fantasyfb_Data/Fantasy FB Data 2017.csv')\n",
    "FFBD2024 = Fantasy_FB_Data_Raw24.drop('Rk', axis=1)\n",
    "FFBD2024.set_index('Player', inplace=True)\n",
    "FFBD2023 = Fantasy_FB_Data_Raw23.drop('Rk', axis=1)\n",
    "FFBD2023.set_index('Player', inplace=True)\n",
    "FFBD2022 = Fantasy_FB_Data_Raw22.drop('Rk', axis=1)\n",
    "FFBD2022.set_index('Player', inplace=True)\n",
    "FFBD2021 = Fantasy_FB_Data_Raw21.drop('Rk', axis=1)\n",
    "FFBD2021.set_index('Player', inplace=True)\n",
    "FFBD2020 = Fantasy_FB_Data_Raw20.drop('Rk', axis=1)\n",
    "FFBD2020.set_index('Player', inplace=True)\n",
    "FFBD2019 = Fantasy_FB_Data_Raw19.drop('Rk', axis=1)\n",
    "FFBD2019.set_index('Player', inplace=True)\n",
    "FFBD2018 = Fantasy_FB_Data_Raw18.drop('Rk', axis=1)\n",
    "FFBD2018.set_index('Player', inplace=True)\n",
    "FFBD2017 = Fantasy_FB_Data_Raw17.drop('Rk', axis=1)\n",
    "FFBD2017.set_index('Player', inplace=True)"
   ]
  },
  {
   "cell_type": "markdown",
   "id": "c26d257e",
   "metadata": {},
   "source": [
    "#### Loading Snap Count Data"
   ]
  },
  {
   "cell_type": "code",
   "execution_count": null,
   "id": "6d3de9e4",
   "metadata": {},
   "outputs": [],
   "source": [
    "Fantasy_FB_Data_RawSnap24 = pd.read_csv('/Users/alexanderlarson/Desktop/Python Projects/Fantasy Football Rankings/Fantasyfb_Data/FFBD2024_SNAPS.csv')\n",
    "Fantasy_FB_Data_RawSnap23 = pd.read_csv('/Users/alexanderlarson/Desktop/Python Projects/Fantasy Football Rankings/Fantasyfb_Data/FFBD2023_SNAPS.csv')\n",
    "Fantasy_FB_Data_RawSnap22 = pd.read_csv('/Users/alexanderlarson/Desktop/Python Projects/Fantasy Football Rankings/Fantasyfb_Data/FFBD2022_SNAPS.csv')\n",
    "Fantasy_FB_Data_RawSnap21 = pd.read_csv('/Users/alexanderlarson/Desktop/Python Projects/Fantasy Football Rankings/Fantasyfb_Data/FFBD2021_SNAPS.csv')\n",
    "Fantasy_FB_Data_RawSnap20 = pd.read_csv('/Users/alexanderlarson/Desktop/Python Projects/Fantasy Football Rankings/Fantasyfb_Data/FFBD2020_SNAPS.csv')\n",
    "Fantasy_FB_Data_RawSnap19 = pd.read_csv('/Users/alexanderlarson/Desktop/Python Projects/Fantasy Football Rankings/Fantasyfb_Data/FFBD2019_SNAPS.csv')\n",
    "Fantasy_FB_Data_RawSnap18 = pd.read_csv('/Users/alexanderlarson/Desktop/Python Projects/Fantasy Football Rankings/Fantasyfb_Data/FFBD2018_SNAPS.csv')\n",
    "Fantasy_FB_Data_RawSnap17 = pd.read_csv('/Users/alexanderlarson/Desktop/Python Projects/Fantasy Football Rankings/Fantasyfb_Data/FFBD2017_SNAPS.csv')\n",
    "Weeks_18 = ['Week 1','Week 2','Week 3','Week 4','Week 5','Week 6','Week 7','Week 8','Week 9','Week 10','Week 11','Week 12','Week 13','Week 14','Week 15','Week 16','Week 17', 'Week 18']\n",
    "Weeks_17 = ['Week 1','Week 2','Week 3','Week 4','Week 5','Week 6','Week 7','Week 8','Week 9','Week 10','Week 11','Week 12','Week 13','Week 14','Week 15','Week 16','Week 17']\n",
    "FFBD2024snp = Fantasy_FB_Data_RawSnap24.drop(columns=Weeks_18)\n",
    "FFBD2023snp = Fantasy_FB_Data_RawSnap24.drop(columns=Weeks_18)\n",
    "FFBD2022snp = Fantasy_FB_Data_RawSnap24.drop(columns=Weeks_18)\n",
    "FFBD2021snp = Fantasy_FB_Data_RawSnap24.drop(columns=Weeks_18)\n",
    "FFBD2020snp = Fantasy_FB_Data_RawSnap24.drop(columns=Weeks_17)\n",
    "FFBD2019snp = Fantasy_FB_Data_RawSnap24.drop(columns=Weeks_17)\n",
    "FFBD2018snp = Fantasy_FB_Data_RawSnap24.drop(columns=Weeks_17)\n",
    "FFBD2017snp = Fantasy_FB_Data_RawSnap24.drop(columns=Weeks_17)"
   ]
  },
  {
   "cell_type": "markdown",
   "id": "90d430f2",
   "metadata": {},
   "source": [
    "#### Filtering Practice"
   ]
  },
  {
   "cell_type": "code",
   "execution_count": null,
   "id": "0b425e93",
   "metadata": {},
   "outputs": [],
   "source": [
    "FFBD2024[FFBD2024['Cmp'] > 200]\n",
    "FFBD2024[FFBD2024['Tm'].isin(['PHI', 'BAL'])]\n",
    "FFBD2024[FFBD2024['FantPos'].str.contains('RB')]\n"
   ]
  },
  {
   "cell_type": "code",
   "execution_count": null,
   "id": "67e25108",
   "metadata": {},
   "outputs": [],
   "source": [
    "FFBD2024.filter(like = 'Williams', axis = 0)\n",
    "FFBD2024.loc['Saquon Barkley*+']\n",
    "FFBD2024.iloc[5]"
   ]
  },
  {
   "cell_type": "markdown",
   "id": "1613d173",
   "metadata": {},
   "source": [
    "#### Standardize column names"
   ]
  },
  {
   "cell_type": "code",
   "execution_count": 37,
   "id": "22cf849a",
   "metadata": {},
   "outputs": [],
   "source": [
    "FFBD2024.rename(columns = {'Tgt (Rec)' : 'Tgt'}, inplace = True)\n",
    "FFBD2024.rename(columns = {'Y/A (Rush)' : 'Y/A'}, inplace = True)\n",
    "FFBD2024.rename(columns = {'Receptions' : 'Rec'}, inplace = True)\n",
    "FFBD2021.rename(columns = {'Att. (Pass)' : 'Att (Pass)'}, inplace = True)\n",
    "FFBD2017.rename(columns = {'Yds  (Rush)' : 'Yds (Rush)'}, inplace = True)\n",
    "FFBD2017.rename(columns = {'TD  (Rush)' : 'TD (Rush)'}, inplace = True)\n",
    "\n",
    "Rename_dict = {\n",
    "    'Avg' : 'Avg Snaps',\n",
    "    'Total' : 'Total Snaps'\n",
    "}\n",
    "def rename_columns(df, rename_map):\n",
    "    df.rename(columns=rename_map, inplace=True)\n",
    "dfs = [FFBD2024snp, FFBD2023snp, FFBD2022snp, FFBD2021snp, FFBD2020snp, FFBD2019snp, FFBD2018snp, FFBD2017snp]\n",
    "for df in dfs:\n",
    "    rename_columns(df, Rename_dict)"
   ]
  },
  {
   "cell_type": "markdown",
   "id": "4ec7617e",
   "metadata": {},
   "source": [
    "#### Removing players with missing stats, dropping duplicates, filling naN in 2-point conversion columns"
   ]
  },
  {
   "cell_type": "code",
   "execution_count": null,
   "id": "74ddf1a5",
   "metadata": {},
   "outputs": [],
   "source": [
    "# 2024\n",
    "for index, row in FFBD2024.iterrows():\n",
    "    if pd.isna(row['Cmp']) and pd.isna(row['Att (Pass)']) and pd.isna(row['Tgt']):\n",
    "        FFBD2024.drop(index, inplace = True)\n",
    "\n",
    "FFBD2024 = FFBD2024.drop_duplicates()\n",
    "\n",
    "Coumns_to_fill = ['2PM', '2PP']\n",
    "FFBD2024[Coumns_to_fill] = FFBD2024[Coumns_to_fill].fillna(0.0)\n",
    "\n",
    "#2023\n",
    "for index, row in FFBD2023.iterrows():\n",
    "    if pd.isna(row['Cmp']) and pd.isna(row['Att (Pass)']) and pd.isna(row['Tgt']):\n",
    "        FFBD2023.drop(index, inplace = True)\n",
    "\n",
    "FFBD2023 = FFBD2023.drop_duplicates()\n",
    "\n",
    "Coumns_to_fill = ['2PM', '2PP']\n",
    "FFBD2023[Coumns_to_fill] = FFBD2023[Coumns_to_fill].fillna(0.0)\n",
    "\n",
    "#2022\n",
    "for index, row in FFBD2022.iterrows():\n",
    "    if pd.isna(row['Cmp']) and pd.isna(row['Att (Pass)']) and pd.isna(row['Tgt']):\n",
    "        FFBD2022.drop(index, inplace = True)\n",
    "\n",
    "FFBD2022 = FFBD2022.drop_duplicates()\n",
    "\n",
    "Coumns_to_fill = ['2PM', '2PP']\n",
    "FFBD2022[Coumns_to_fill] = FFBD2022[Coumns_to_fill].fillna(0.0)\n",
    "\n",
    "#2021\n",
    "for index, row in FFBD2021.iterrows():\n",
    "    if pd.isna(row['Cmp']) and pd.isna(row['Att (Pass)']) and pd.isna(row['Tgt']):\n",
    "        FFBD2021.drop(index, inplace = True)\n",
    "\n",
    "FFBD2021 = FFBD2021.drop_duplicates()\n",
    "\n",
    "Coumns_to_fill = ['2PM', '2PP']\n",
    "FFBD2021[Coumns_to_fill] = FFBD2021[Coumns_to_fill].fillna(0.0)\n",
    "\n",
    "#2020\n",
    "for index, row in FFBD2020.iterrows():\n",
    "    if pd.isna(row['Cmp']) and pd.isna(row['Att (Pass)']) and pd.isna(row['Tgt']):\n",
    "        FFBD2020.drop(index, inplace = True)\n",
    "\n",
    "FFBD2020 = FFBD2020.drop_duplicates()\n",
    "\n",
    "Coumns_to_fill = ['2PM', '2PP']\n",
    "FFBD2020[Coumns_to_fill] = FFBD2020[Coumns_to_fill].fillna(0.0)\n",
    "\n",
    "#2019\n",
    "for index, row in FFBD2019.iterrows():\n",
    "    if pd.isna(row['Cmp']) and pd.isna(row['Att (Pass)']) and pd.isna(row['Tgt']):\n",
    "        FFBD2019.drop(index, inplace = True)\n",
    "\n",
    "FFBD2019 = FFBD2019.drop_duplicates()\n",
    "\n",
    "Coumns_to_fill = ['2PM', '2PP']\n",
    "FFBD2019[Coumns_to_fill] = FFBD2019[Coumns_to_fill].fillna(0.0)\n",
    "\n",
    "#2018\n",
    "for index, row in FFBD2018.iterrows():\n",
    "    if pd.isna(row['Cmp']) and pd.isna(row['Att (Pass)']) and pd.isna(row['Tgt']):\n",
    "        FFBD2018.drop(index, inplace = True)\n",
    "\n",
    "FFBD2018 = FFBD2018.drop_duplicates()\n",
    "\n",
    "Coumns_to_fill = ['2PM', '2PP']\n",
    "FFBD2018[Coumns_to_fill] = FFBD2018[Coumns_to_fill].fillna(0.0)\n",
    "\n",
    "#2017\n",
    "for index, row in FFBD2017.iterrows():\n",
    "    if pd.isna(row['Cmp']) and pd.isna(row['Att (Pass)']) and pd.isna(row['Tgt']):\n",
    "        FFBD2017.drop(index, inplace = True)\n",
    "\n",
    "FFBD2017 = FFBD2017.drop_duplicates()\n",
    "\n",
    "Coumns_to_fill = ['2PM', '2PP']\n",
    "FFBD2017[Coumns_to_fill] = FFBD2017[Coumns_to_fill].fillna(0.0)"
   ]
  },
  {
   "cell_type": "markdown",
   "id": "ab5e481c",
   "metadata": {},
   "source": [
    "#### Removing naN for 'PPR' column, since my fantasy football league is PPR"
   ]
  },
  {
   "cell_type": "code",
   "execution_count": null,
   "id": "7ebb5e5f",
   "metadata": {},
   "outputs": [],
   "source": [
    "# 2024\n",
    "for index, row in FFBD2024.iterrows():\n",
    "    if pd.isna(row['PPR']):\n",
    "        FFBD2024.drop(index, inplace = True)\n",
    "\n",
    "#2023\n",
    "for index, row in FFBD2023.iterrows():\n",
    "    if pd.isna(row['PPR']):\n",
    "        FFBD2023.drop(index, inplace = True)\n",
    "\n",
    "#2022\n",
    "for index, row in FFBD2022.iterrows():\n",
    "    if pd.isna(row['PPR']):\n",
    "        FFBD2022.drop(index, inplace = True)\n",
    "\n",
    "#2021\n",
    "for index, row in FFBD2021.iterrows():\n",
    "    if pd.isna(row['PPR']):\n",
    "        FFBD2021.drop(index, inplace = True)\n",
    "\n",
    "#2020\n",
    "for index, row in FFBD2020.iterrows():\n",
    "    if pd.isna(row['PPR']):\n",
    "        FFBD2020.drop(index, inplace = True)\n",
    "\n",
    "\n",
    "#2019\n",
    "for index, row in FFBD2019.iterrows():\n",
    "    if pd.isna(row['PPR']):\n",
    "        FFBD2019.drop(index, inplace = True)\n",
    "\n",
    "#2018\n",
    "for index, row in FFBD2018.iterrows():\n",
    "    if pd.isna(row['PPR']):\n",
    "        FFBD2018.drop(index, inplace = True)\n",
    "\n",
    "#2017\n",
    "for index, row in FFBD2017.iterrows():\n",
    "    if pd.isna(row['PPR']):\n",
    "        FFBD2017.drop(index, inplace = True)"
   ]
  },
  {
   "cell_type": "markdown",
   "id": "4ea8632f",
   "metadata": {},
   "source": [
    "#### Dropping other fantasy point types and rank"
   ]
  },
  {
   "cell_type": "code",
   "execution_count": null,
   "id": "56d96770",
   "metadata": {},
   "outputs": [],
   "source": [
    "FFBD2024.drop(columns = ['OvRank', 'PosRank', 'VBD', 'FDPt', 'DKPt', 'FantPt'], inplace=True)\n",
    "FFBD2023.drop(columns = ['OvRank', 'PosRank', 'VBD', 'FDPt', 'DKPt', 'FantPt'], inplace=True)\n",
    "FFBD2022.drop(columns = ['OvRank', 'PosRank', 'VBD', 'FDPt', 'DKPt', 'FantPt'], inplace=True)\n",
    "FFBD2021.drop(columns = ['OvRank', 'PosRank', 'VBD', 'FDPt', 'DKPt', 'FantPt'], inplace=True)\n",
    "FFBD2020.drop(columns = ['OvRank', 'PosRank', 'VBD', 'FDPt', 'DKPt', 'FantPt'], inplace=True)\n",
    "FFBD2019.drop(columns = ['OvRank', 'PosRank', 'VBD', 'FDPt', 'DKPt', 'FantPt'], inplace=True)\n",
    "FFBD2018.drop(columns = ['OvRank', 'PosRank', 'VBD', 'FDPt', 'DKPt', 'FantPt'], inplace=True)\n",
    "FFBD2017.drop(columns = ['OvRank', 'PosRank', 'VBD', 'FDPt', 'DKPt', 'FantPt'], inplace=True)"
   ]
  },
  {
   "cell_type": "markdown",
   "id": "012458f3",
   "metadata": {},
   "source": [
    "#### Remove other characters from 'Player' column"
   ]
  },
  {
   "cell_type": "code",
   "execution_count": null,
   "id": "8520edf1",
   "metadata": {},
   "outputs": [],
   "source": [
    "FFBD2024.index = FFBD2024.index.str.rstrip('*+')\n",
    "FFBD2023.index = FFBD2023.index.str.rstrip('*+')\n",
    "FFBD2022.index = FFBD2022.index.str.rstrip('*+')\n",
    "FFBD2021.index = FFBD2021.index.str.rstrip('*+')\n",
    "FFBD2020.index = FFBD2020.index.str.rstrip('*+')\n",
    "FFBD2019.index = FFBD2019.index.str.rstrip('*+')\n",
    "FFBD2018.index = FFBD2018.index.str.rstrip('*+')\n",
    "FFBD2017.index = FFBD2017.index.str.rstrip('*+')"
   ]
  },
  {
   "cell_type": "markdown",
   "id": "39971b9e",
   "metadata": {},
   "source": [
    "#### Add year to player name (to be tunred into year column once merged)"
   ]
  },
  {
   "cell_type": "code",
   "execution_count": null,
   "id": "40580069",
   "metadata": {},
   "outputs": [],
   "source": [
    "FFBD2024.index = FFBD2024.index + '_2024'\n",
    "FFBD2023.index = FFBD2023.index + '_2023'\n",
    "FFBD2022.index = FFBD2022.index + '_2022'\n",
    "FFBD2021.index = FFBD2021.index + '_2021'\n",
    "FFBD2020.index = FFBD2020.index + '_2020'\n",
    "FFBD2019.index = FFBD2019.index + '_2019'\n",
    "FFBD2018.index = FFBD2018.index + '_2018'\n",
    "FFBD2017.index = FFBD2017.index + '_2017'"
   ]
  },
  {
   "cell_type": "markdown",
   "id": "cda16ef9",
   "metadata": {},
   "source": [
    "#### Merging the data"
   ]
  },
  {
   "cell_type": "code",
   "execution_count": null,
   "id": "e3b8e6c8",
   "metadata": {},
   "outputs": [],
   "source": [
    "FFBD_Merged = pd.concat([FFBD2024, FFBD2023, FFBD2022, FFBD2021, FFBD2020, FFBD2019, FFBD2018, FFBD2017])"
   ]
  },
  {
   "cell_type": "markdown",
   "id": "551aea59",
   "metadata": {},
   "source": [
    "#### Creating the year column"
   ]
  },
  {
   "cell_type": "code",
   "execution_count": null,
   "id": "c8044530",
   "metadata": {},
   "outputs": [],
   "source": [
    "FFBD_Merged['Year'] = FFBD_Merged.index.str.split('_').str[1]\n",
    "FFBD_Merged.index = FFBD_Merged.index.str[:-5]"
   ]
  },
  {
   "cell_type": "markdown",
   "id": "e4af58a9",
   "metadata": {},
   "source": [
    "#### Create columnn for PPR points (Per tgt, reception rush att, throw, completion)"
   ]
  },
  {
   "cell_type": "code",
   "execution_count": null,
   "id": "1346bda9",
   "metadata": {},
   "outputs": [],
   "source": [
    "FFBD_Merged.reset_index(drop=True, inplace=True)"
   ]
  },
  {
   "cell_type": "code",
   "execution_count": null,
   "id": "75422aa6",
   "metadata": {},
   "outputs": [],
   "source": [
    "mask = (FFBD_Merged['Tgt'] !=0) & (pd.notna(FFBD_Merged['Tgt']))\n",
    "FFBD_Merged['PPR_Tgt'] = FFBD_Merged.loc[mask, 'PPR'] / FFBD_Merged.loc[mask, 'Tgt']\n"
   ]
  },
  {
   "cell_type": "code",
   "execution_count": null,
   "id": "10b18ed0",
   "metadata": {},
   "outputs": [],
   "source": [
    "mask = (FFBD_Merged['Att (Rush)'] !=0) & (pd.notna(FFBD_Merged['Att (Rush)']))\n",
    "FFBD_Merged['PPR_RushAtt'] = FFBD_Merged.loc[mask, 'PPR'] / FFBD_Merged.loc[mask, 'Att (Rush)']"
   ]
  },
  {
   "cell_type": "code",
   "execution_count": null,
   "id": "a7aabbb3",
   "metadata": {},
   "outputs": [],
   "source": [
    "mask = (FFBD_Merged['Att (Rush)'] !=0) & (pd.notna(FFBD_Merged['Att (Rush)']))\n",
    "FFBD_Merged['PPR_RushAtt'] = FFBD_Merged.loc[mask, 'PPR'] / FFBD_Merged.loc[mask, 'Att (Rush)']"
   ]
  },
  {
   "cell_type": "code",
   "execution_count": null,
   "id": "79a3f46f",
   "metadata": {},
   "outputs": [],
   "source": [
    "FFBD_Merged.set_index('Player', inplace=True)"
   ]
  },
  {
   "cell_type": "code",
   "execution_count": null,
   "id": "15ab471c",
   "metadata": {},
   "outputs": [],
   "source": [
    "FFBD_Merged.drop(columns=['PPR_Tgt'], inplace=True)"
   ]
  },
  {
   "cell_type": "markdown",
   "id": "e73e3be9",
   "metadata": {},
   "source": [
    "#### Export to data folder"
   ]
  },
  {
   "cell_type": "code",
   "execution_count": null,
   "id": "088db45c",
   "metadata": {},
   "outputs": [],
   "source": [
    "FFBD_Merged.to_csv('/Users/alexanderlarson/Desktop/Python Projects/Fantasy Football Rankings/Fantasyfb_Data/FFBD_Merged.csv')"
   ]
  }
 ],
 "metadata": {
  "kernelspec": {
   "display_name": ".venv",
   "language": "python",
   "name": "python3"
  },
  "language_info": {
   "codemirror_mode": {
    "name": "ipython",
    "version": 3
   },
   "file_extension": ".py",
   "mimetype": "text/x-python",
   "name": "python",
   "nbconvert_exporter": "python",
   "pygments_lexer": "ipython3",
   "version": "3.13.3"
  }
 },
 "nbformat": 4,
 "nbformat_minor": 5
}
