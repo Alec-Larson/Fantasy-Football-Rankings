{
 "cells": [
  {
   "cell_type": "code",
   "execution_count": 38,
   "id": "9a2429cb",
   "metadata": {},
   "outputs": [],
   "source": [
    "\n",
    "# Importing Data + Packages:\n",
    "\n",
    "import pandas as pd\n",
    "import numpy as np\n",
    "Fantasy_FB_Data_Raw = pd.read_csv('/Users/alexanderlarson/Desktop/Data Sets/Fantasy FB Data 2024.csv')\n",
    "FFBD = Fantasy_FB_Data_Raw.drop('Rk', axis=1)"
   ]
  },
  {
   "cell_type": "markdown",
   "id": "90d430f2",
   "metadata": {},
   "source": [
    "#### Filtering Practice"
   ]
  },
  {
   "cell_type": "code",
   "execution_count": 39,
   "id": "dde4eed1",
   "metadata": {},
   "outputs": [],
   "source": [
    "FFBD = FFBD.set_index('Player')"
   ]
  },
  {
   "cell_type": "code",
   "execution_count": 37,
   "id": "fa7a6a7a",
   "metadata": {},
   "outputs": [],
   "source": [
    "FFBD = FFBD.reset_index()"
   ]
  },
  {
   "cell_type": "code",
   "execution_count": null,
   "id": "0b425e93",
   "metadata": {},
   "outputs": [],
   "source": [
    "FFBD[FFBD['Cmp'] > 200]\n",
    "FFBD[FFBD['Tm'].isin(['PHI', 'BAL'])]\n",
    "FFBD[FFBD['FantPos'].str.contains('RB')]\n"
   ]
  },
  {
   "cell_type": "code",
   "execution_count": null,
   "id": "67e25108",
   "metadata": {},
   "outputs": [],
   "source": [
    "FFBD.filter(like = 'Williams', axis = 0)\n",
    "FFBD.loc['Saquon Barkley*+']\n",
    "FFBD.iloc[5]\n",
    "FFBD[FFBD['Rk'] < 11].sort_values(by = 'Rk', ascending = False)"
   ]
  },
  {
   "cell_type": "code",
   "execution_count": null,
   "id": "74ddf1a5",
   "metadata": {},
   "outputs": [],
   "source": [
    "# Cleaning data:\n",
    "\n",
    "for index, row in FFBD.iterrows():\n",
    "    if pd.isna(row['Cmp']) or pd.isna(row['Att (Pass)']) or pd.isna(row['Yds (Pass)']):\n",
    "        print(row['Player'])\n",
    "\n",
    "FFBD = FFBD.drop([581,582])\n",
    "\n",
    "for index, row in FFBD.iterrows():\n",
    "    if pd.isna(row['PPR']):\n",
    "        FFBD = FFBD.drop(index)\n",
    "\n",
    "Fill_na = ['2PM', '2PP']\n",
    "FFBD[Fill_na] = FFBD[Fill_na].fillna(0.0)\n",
    "\n",
    "print(FFBD.loc[5])\n",
    "\n",
    "\n",
    "\n"
   ]
  },
  {
   "cell_type": "code",
   "execution_count": null,
   "id": "34ba6c50",
   "metadata": {},
   "outputs": [],
   "source": [
    "# Creating data tables by position:\n",
    "\n",
    "FFBD_QB = FFBD[FFBD['FantPos'] == 'QB']\n",
    "FFBD_RB = FFBD[FFBD['FantPos'] == 'RB']\n",
    "FFBD_WR = FFBD[FFBD['FantPos'] == 'WR']\n",
    "FFBD_TE = FFBD[FFBD['FantPos'] == 'TE']"
   ]
  }
 ],
 "metadata": {
  "kernelspec": {
   "display_name": ".venv",
   "language": "python",
   "name": "python3"
  },
  "language_info": {
   "codemirror_mode": {
    "name": "ipython",
    "version": 3
   },
   "file_extension": ".py",
   "mimetype": "text/x-python",
   "name": "python",
   "nbconvert_exporter": "python",
   "pygments_lexer": "ipython3",
   "version": "3.13.3"
  }
 },
 "nbformat": 4,
 "nbformat_minor": 5
}
