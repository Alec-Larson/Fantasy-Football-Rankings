{
 "cells": [
  {
   "cell_type": "markdown",
   "id": "ab924d18",
   "metadata": {},
   "source": [
    "### Importing Packages and Loading Data"
   ]
  },
  {
   "cell_type": "code",
   "execution_count": 1,
   "id": "9a2429cb",
   "metadata": {},
   "outputs": [],
   "source": [
    "import pandas as pd\n",
    "import numpy as np"
   ]
  },
  {
   "cell_type": "code",
   "execution_count": 15,
   "id": "3b17e5ac",
   "metadata": {},
   "outputs": [],
   "source": [
    "Fantasy_FB_Data_Raw24 = pd.read_csv('/Users/alexanderlarson/Desktop/Python Projects/Fantasy Football Rankings/Fantasyfb_Data/Fantasy FB Data 2024.csv')\n",
    "Fantasy_FB_Data_Raw23 = pd.read_csv('/Users/alexanderlarson/Desktop/Python Projects/Fantasy Football Rankings/Fantasyfb_Data/Fantasy FB Data 2023.csv')\n",
    "Fantasy_FB_Data_Raw22 = pd.read_csv('/Users/alexanderlarson/Desktop/Python Projects/Fantasy Football Rankings/Fantasyfb_Data/Fantasy FB Data 2022.csv')\n",
    "Fantasy_FB_Data_Raw21 = pd.read_csv('/Users/alexanderlarson/Desktop/Python Projects/Fantasy Football Rankings/Fantasyfb_Data/Fantasy FB Data 2021.csv')\n",
    "Fantasy_FB_Data_Raw20 = pd.read_csv('/Users/alexanderlarson/Desktop/Python Projects/Fantasy Football Rankings/Fantasyfb_Data/Fantasy FB Data 2020.csv')\n",
    "Fantasy_FB_Data_Raw19 = pd.read_csv('/Users/alexanderlarson/Desktop/Python Projects/Fantasy Football Rankings/Fantasyfb_Data/Fantasy FB Data 2019.csv')\n",
    "Fantasy_FB_Data_Raw18 = pd.read_csv('/Users/alexanderlarson/Desktop/Python Projects/Fantasy Football Rankings/Fantasyfb_Data/Fantasy FB Data 2018.csv')\n",
    "Fantasy_FB_Data_Raw17 = pd.read_csv('/Users/alexanderlarson/Desktop/Python Projects/Fantasy Football Rankings/Fantasyfb_Data/Fantasy FB Data 2017.csv')\n",
    "FFBD2024 = Fantasy_FB_Data_Raw24.drop('Rk', axis=1)\n",
    "FFBD2024.set_index('Player', inplace=True)\n",
    "FFBD2023 = Fantasy_FB_Data_Raw23.drop('Rk', axis=1)\n",
    "FFBD2023.set_index('Player', inplace=True)\n",
    "FFBD2022 = Fantasy_FB_Data_Raw22.drop('Rk', axis=1)\n",
    "FFBD2022.set_index('Player', inplace=True)\n",
    "FFBD2021 = Fantasy_FB_Data_Raw21.drop('Rk', axis=1)\n",
    "FFBD2021.set_index('Player', inplace=True)\n",
    "FFBD2020 = Fantasy_FB_Data_Raw20.drop('Rk', axis=1)\n",
    "FFBD2020.set_index('Player', inplace=True)\n",
    "FFBD2019 = Fantasy_FB_Data_Raw19.drop('Rk', axis=1)\n",
    "FFBD2019.set_index('Player', inplace=True)\n",
    "FFBD2018 = Fantasy_FB_Data_Raw18.drop('Rk', axis=1)\n",
    "FFBD2018.set_index('Player', inplace=True)\n",
    "FFBD2017 = Fantasy_FB_Data_Raw17.drop('Rk', axis=1)\n",
    "FFBD2017.set_index('Player', inplace=True)"
   ]
  },
  {
   "cell_type": "markdown",
   "id": "90d430f2",
   "metadata": {},
   "source": [
    "#### Filtering Practice"
   ]
  },
  {
   "cell_type": "code",
   "execution_count": null,
   "id": "0b425e93",
   "metadata": {},
   "outputs": [],
   "source": [
    "FFBD2024[FFBD2024['Cmp'] > 200]\n",
    "FFBD2024[FFBD2024['Tm'].isin(['PHI', 'BAL'])]\n",
    "FFBD2024[FFBD2024['FantPos'].str.contains('RB')]\n"
   ]
  },
  {
   "cell_type": "code",
   "execution_count": null,
   "id": "67e25108",
   "metadata": {},
   "outputs": [],
   "source": [
    "FFBD2024.filter(like = 'Williams', axis = 0)\n",
    "FFBD2024.loc['Saquon Barkley*+']\n",
    "FFBD2024.iloc[5]"
   ]
  },
  {
   "cell_type": "markdown",
   "id": "1613d173",
   "metadata": {},
   "source": [
    "#### Standardize column names"
   ]
  },
  {
   "cell_type": "code",
   "execution_count": 16,
   "id": "22cf849a",
   "metadata": {},
   "outputs": [],
   "source": [
    "FFBD2024.rename(columns={'Tgt (Rec)' : 'Tgt'}, inplace = True)\n",
    "FFBD2021.rename(columns={'Att. (Pass)' : 'Att (Pass)'}, inplace = True)"
   ]
  },
  {
   "cell_type": "markdown",
   "id": "4ec7617e",
   "metadata": {},
   "source": [
    "#### Removing players with missing stats, dropping duplicates, filling naN in 2-point conversion columns"
   ]
  },
  {
   "cell_type": "code",
   "execution_count": 17,
   "id": "74ddf1a5",
   "metadata": {},
   "outputs": [],
   "source": [
    "# 2024\n",
    "for index, row in FFBD2024.iterrows():\n",
    "    if pd.isna(row['Cmp']) and pd.isna(row['Att (Pass)']) and pd.isna(row['Tgt']):\n",
    "        FFBD2024.drop(index, inplace = True)\n",
    "\n",
    "FFBD2024 = FFBD2024.drop_duplicates()\n",
    "\n",
    "Coumns_to_fill = ['2PM', '2PP']\n",
    "FFBD2024[Coumns_to_fill] = FFBD2024[Coumns_to_fill].fillna(0.0)\n",
    "\n",
    "#2023\n",
    "for index, row in FFBD2023.iterrows():\n",
    "    if pd.isna(row['Cmp']) and pd.isna(row['Att (Pass)']) and pd.isna(row['Tgt']):\n",
    "        FFBD2023.drop(index, inplace = True)\n",
    "\n",
    "FFBD2023 = FFBD2023.drop_duplicates()\n",
    "\n",
    "Coumns_to_fill = ['2PM', '2PP']\n",
    "FFBD2023[Coumns_to_fill] = FFBD2023[Coumns_to_fill].fillna(0.0)\n",
    "\n",
    "#2022\n",
    "for index, row in FFBD2022.iterrows():\n",
    "    if pd.isna(row['Cmp']) and pd.isna(row['Att (Pass)']) and pd.isna(row['Tgt']):\n",
    "        FFBD2022.drop(index, inplace = True)\n",
    "\n",
    "FFBD2022 = FFBD2022.drop_duplicates()\n",
    "\n",
    "Coumns_to_fill = ['2PM', '2PP']\n",
    "FFBD2022[Coumns_to_fill] = FFBD2022[Coumns_to_fill].fillna(0.0)\n",
    "\n",
    "#2021\n",
    "for index, row in FFBD2021.iterrows():\n",
    "    if pd.isna(row['Cmp']) and pd.isna(row['Att (Pass)']) and pd.isna(row['Tgt']):\n",
    "        FFBD2021.drop(index, inplace = True)\n",
    "\n",
    "FFBD2021 = FFBD2021.drop_duplicates()\n",
    "\n",
    "Coumns_to_fill = ['2PM', '2PP']\n",
    "FFBD2021[Coumns_to_fill] = FFBD2021[Coumns_to_fill].fillna(0.0)\n",
    "\n",
    "#2020\n",
    "for index, row in FFBD2020.iterrows():\n",
    "    if pd.isna(row['Cmp']) and pd.isna(row['Att (Pass)']) and pd.isna(row['Tgt']):\n",
    "        FFBD2020.drop(index, inplace = True)\n",
    "\n",
    "FFBD2020 = FFBD2020.drop_duplicates()\n",
    "\n",
    "Coumns_to_fill = ['2PM', '2PP']\n",
    "FFBD2020[Coumns_to_fill] = FFBD2020[Coumns_to_fill].fillna(0.0)\n",
    "\n",
    "#2019\n",
    "for index, row in FFBD2019.iterrows():\n",
    "    if pd.isna(row['Cmp']) and pd.isna(row['Att (Pass)']) and pd.isna(row['Tgt']):\n",
    "        FFBD2019.drop(index, inplace = True)\n",
    "\n",
    "FFBD2019 = FFBD2019.drop_duplicates()\n",
    "\n",
    "Coumns_to_fill = ['2PM', '2PP']\n",
    "FFBD2019[Coumns_to_fill] = FFBD2019[Coumns_to_fill].fillna(0.0)\n",
    "\n",
    "#2018\n",
    "for index, row in FFBD2018.iterrows():\n",
    "    if pd.isna(row['Cmp']) and pd.isna(row['Att (Pass)']) and pd.isna(row['Tgt']):\n",
    "        FFBD2018.drop(index, inplace = True)\n",
    "\n",
    "FFBD2018 = FFBD2018.drop_duplicates()\n",
    "\n",
    "Coumns_to_fill = ['2PM', '2PP']\n",
    "FFBD2018[Coumns_to_fill] = FFBD2018[Coumns_to_fill].fillna(0.0)\n",
    "\n",
    "#2017\n",
    "for index, row in FFBD2017.iterrows():\n",
    "    if pd.isna(row['Cmp']) and pd.isna(row['Att (Pass)']) and pd.isna(row['Tgt']):\n",
    "        FFBD2017.drop(index, inplace = True)\n",
    "\n",
    "FFBD2017 = FFBD2017.drop_duplicates()\n",
    "\n",
    "Coumns_to_fill = ['2PM', '2PP']\n",
    "FFBD2017[Coumns_to_fill] = FFBD2017[Coumns_to_fill].fillna(0.0)"
   ]
  },
  {
   "cell_type": "markdown",
   "id": "ab5e481c",
   "metadata": {},
   "source": [
    "#### Removing naN for 'PPR' column, since my fantasy football league is PPR"
   ]
  },
  {
   "cell_type": "code",
   "execution_count": 18,
   "id": "7ebb5e5f",
   "metadata": {},
   "outputs": [],
   "source": [
    "# 2024\n",
    "for index, row in FFBD2024.iterrows():\n",
    "    if pd.isna(row['PPR']):\n",
    "        FFBD2024.drop(index, inplace = True)\n",
    "\n",
    "#2023\n",
    "for index, row in FFBD2023.iterrows():\n",
    "    if pd.isna(row['PPR']):\n",
    "        FFBD2023.drop(index, inplace = True)\n",
    "\n",
    "#2022\n",
    "for index, row in FFBD2022.iterrows():\n",
    "    if pd.isna(row['PPR']):\n",
    "        FFBD2022.drop(index, inplace = True)\n",
    "\n",
    "#2021\n",
    "for index, row in FFBD2022.iterrows():\n",
    "    if pd.isna(row['PPR']):\n",
    "        FFBD2022.drop(index, inplace = True)\n",
    "\n",
    "#2020\n",
    "for index, row in FFBD2020.iterrows():\n",
    "    if pd.isna(row['PPR']):\n",
    "        FFBD2020.drop(index, inplace = True)\n",
    "\n",
    "\n",
    "#2019\n",
    "for index, row in FFBD2019.iterrows():\n",
    "    if pd.isna(row['PPR']):\n",
    "        FFBD2019.drop(index, inplace = True)\n",
    "\n",
    "#2018\n",
    "for index, row in FFBD2018.iterrows():\n",
    "    if pd.isna(row['PPR']):\n",
    "        FFBD2018.drop(index, inplace = True)\n",
    "\n",
    "#2017\n",
    "for index, row in FFBD2017.iterrows():\n",
    "    if pd.isna(row['PPR']):\n",
    "        FFBD2017.drop(index, inplace = True)"
   ]
  },
  {
   "cell_type": "markdown",
   "id": "4ea8632f",
   "metadata": {},
   "source": [
    "#### Dropping other fantasy point types"
   ]
  },
  {
   "cell_type": "code",
   "execution_count": 19,
   "id": "56d96770",
   "metadata": {},
   "outputs": [],
   "source": [
    "FFBD2024.drop(columns = ['OvRank', 'VBD', 'FDPt', 'DKPt', 'FantPt'], inplace=True)\n",
    "FFBD2023.drop(columns = ['OvRank', 'VBD', 'FDPt', 'DKPt', 'FantPt'], inplace=True)\n",
    "FFBD2022.drop(columns = ['OvRank', 'VBD', 'FDPt', 'DKPt', 'FantPt'], inplace=True)\n",
    "FFBD2021.drop(columns = ['OvRank', 'VBD', 'FDPt', 'DKPt', 'FantPt'], inplace=True)\n",
    "FFBD2020.drop(columns = ['OvRank', 'VBD', 'FDPt', 'DKPt', 'FantPt'], inplace=True)\n",
    "FFBD2019.drop(columns = ['OvRank', 'VBD', 'FDPt', 'DKPt', 'FantPt'], inplace=True)\n",
    "FFBD2018.drop(columns = ['OvRank', 'VBD', 'FDPt', 'DKPt', 'FantPt'], inplace=True)\n",
    "FFBD2017.drop(columns = ['OvRank', 'VBD', 'FDPt', 'DKPt', 'FantPt'], inplace=True)"
   ]
  },
  {
   "cell_type": "markdown",
   "id": "012458f3",
   "metadata": {},
   "source": [
    "#### Remove other characters from 'Player' column"
   ]
  },
  {
   "cell_type": "code",
   "execution_count": 20,
   "id": "8520edf1",
   "metadata": {},
   "outputs": [],
   "source": [
    "FFBD2024.index = FFBD2024.index.str.rstrip('*+')\n",
    "FFBD2023.index = FFBD2023.index.str.rstrip('*+')\n",
    "FFBD2022.index = FFBD2022.index.str.rstrip('*+')\n",
    "FFBD2021.index = FFBD2021.index.str.rstrip('*+')\n",
    "FFBD2020.index = FFBD2020.index.str.rstrip('*+')\n",
    "FFBD2019.index = FFBD2019.index.str.rstrip('*+')\n",
    "FFBD2018.index = FFBD2018.index.str.rstrip('*+')\n",
    "FFBD2017.index = FFBD2017.index.str.rstrip('*+')"
   ]
  },
  {
   "cell_type": "markdown",
   "id": "39971b9e",
   "metadata": {},
   "source": [
    "#### Add year to player name (to be tunred into year column)"
   ]
  },
  {
   "cell_type": "code",
   "execution_count": 21,
   "id": "40580069",
   "metadata": {},
   "outputs": [],
   "source": [
    "FFBD2024.index = FFBD2024.index + '_2024'\n",
    "FFBD2023.index = FFBD2023.index + '_2023'\n",
    "FFBD2022.index = FFBD2022.index + '_2022'\n",
    "FFBD2021.index = FFBD2021.index + '_2021'\n",
    "FFBD2020.index = FFBD2020.index + '_2020'\n",
    "FFBD2019.index = FFBD2019.index + '_2019'\n",
    "FFBD2018.index = FFBD2018.index + '_2018'\n",
    "FFBD2017.index = FFBD2017.index + '_2017'"
   ]
  },
  {
   "cell_type": "markdown",
   "id": "cda16ef9",
   "metadata": {},
   "source": [
    "#### Merging the data"
   ]
  },
  {
   "cell_type": "code",
   "execution_count": null,
   "id": "e3b8e6c8",
   "metadata": {},
   "outputs": [],
   "source": []
  },
  {
   "cell_type": "markdown",
   "id": "551aea59",
   "metadata": {},
   "source": [
    "#### Creating the year column"
   ]
  },
  {
   "cell_type": "markdown",
   "id": "e73e3be9",
   "metadata": {},
   "source": [
    "#### Export to data folder"
   ]
  },
  {
   "cell_type": "code",
   "execution_count": null,
   "id": "088db45c",
   "metadata": {},
   "outputs": [],
   "source": []
  }
 ],
 "metadata": {
  "kernelspec": {
   "display_name": ".venv",
   "language": "python",
   "name": "python3"
  },
  "language_info": {
   "codemirror_mode": {
    "name": "ipython",
    "version": 3
   },
   "file_extension": ".py",
   "mimetype": "text/x-python",
   "name": "python",
   "nbconvert_exporter": "python",
   "pygments_lexer": "ipython3",
   "version": "3.13.3"
  }
 },
 "nbformat": 4,
 "nbformat_minor": 5
}
