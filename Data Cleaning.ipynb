{
 "cells": [
  {
   "cell_type": "code",
   "execution_count": 1,
   "id": "9a2429cb",
   "metadata": {},
   "outputs": [],
   "source": [
    "\n",
    "# Importing Data + Packages:\n",
    "\n",
    "import pandas as pd\n",
    "import numpy as np\n",
    "Fantasy_FB_Data_Raw = pd.read_csv('/Users/alexanderlarson/Desktop/Python Projects/Fantasy Football Rankings/Fantasy FB Data 2024.csv')\n",
    "FFBD = Fantasy_FB_Data_Raw.drop('Rk', axis=1)\n",
    "FFBD.set_index('Player', inplace=True)"
   ]
  },
  {
   "cell_type": "markdown",
   "id": "90d430f2",
   "metadata": {},
   "source": [
    "#### Filtering Practice"
   ]
  },
  {
   "cell_type": "code",
   "execution_count": null,
   "id": "0b425e93",
   "metadata": {},
   "outputs": [],
   "source": [
    "FFBD[FFBD['Cmp'] > 200]\n",
    "FFBD[FFBD['Tm'].isin(['PHI', 'BAL'])]\n",
    "FFBD[FFBD['FantPos'].str.contains('RB')]\n"
   ]
  },
  {
   "cell_type": "code",
   "execution_count": null,
   "id": "67e25108",
   "metadata": {},
   "outputs": [],
   "source": [
    "FFBD.filter(like = 'Williams', axis = 0)\n",
    "FFBD.loc['Saquon Barkley*+']\n",
    "FFBD.iloc[5]"
   ]
  },
  {
   "cell_type": "markdown",
   "id": "4ec7617e",
   "metadata": {},
   "source": [
    "#### Remove naN + duplicates, fill null (when appropriate)"
   ]
  },
  {
   "cell_type": "code",
   "execution_count": null,
   "id": "74ddf1a5",
   "metadata": {},
   "outputs": [],
   "source": [
    "for index, row in FFBD.iterrows():\n",
    "    if pd.isna(row['Cmp']) and pd.isna(row['Att (Pass)']) and pd.isna(row['Tgt (Rec)']):\n",
    "        FFBD.drop(index, inplace = True)\n",
    "\n",
    "FFBD = FFBD.drop_duplicates()\n",
    "\n",
    "Coumns_to_fill = ['2PM', '2PP']\n",
    "FFBD[Coumns_to_fill] = FFBD[Coumns_to_fill].fillna(0.0)"
   ]
  },
  {
   "cell_type": "code",
   "execution_count": 8,
   "id": "7ebb5e5f",
   "metadata": {},
   "outputs": [],
   "source": [
    "for index, row in FFBD.iterrows():\n",
    "    if pd.isna(row['PPR']):\n",
    "        FFBD.drop(index, inplace = True)"
   ]
  },
  {
   "cell_type": "code",
   "execution_count": 10,
   "id": "56d96770",
   "metadata": {},
   "outputs": [],
   "source": [
    "FFBD.drop(columns = ['OvRank', 'VBD', 'FDPt', 'DKPt', 'FantPt'], inplace=True)"
   ]
  },
  {
   "cell_type": "markdown",
   "id": "012458f3",
   "metadata": {},
   "source": [
    "#### Standardize Data"
   ]
  },
  {
   "cell_type": "code",
   "execution_count": null,
   "id": "8520edf1",
   "metadata": {},
   "outputs": [],
   "source": [
    "FFBD.index = FFBD.index.str.rstrip('*+')"
   ]
  },
  {
   "cell_type": "code",
   "execution_count": null,
   "id": "34ba6c50",
   "metadata": {},
   "outputs": [],
   "source": [
    "# Creating data tables by position:\n",
    "\n",
    "FFBD_QB = FFBD[FFBD['FantPos'] == 'QB']\n",
    "FFBD_RB = FFBD[FFBD['FantPos'] == 'RB']\n",
    "FFBD_WR = FFBD[FFBD['FantPos'] == 'WR']\n",
    "FFBD_TE = FFBD[FFBD['FantPos'] == 'TE']"
   ]
  },
  {
   "cell_type": "markdown",
   "id": "e73e3be9",
   "metadata": {},
   "source": [
    "#### Export"
   ]
  },
  {
   "cell_type": "code",
   "execution_count": 8,
   "id": "088db45c",
   "metadata": {},
   "outputs": [],
   "source": [
    "FFBD.to_csv('/Users/alexanderlarson/Desktop/Python Projects/Fantasy Football Rankings/FFBDcleaned.csv')"
   ]
  }
 ],
 "metadata": {
  "kernelspec": {
   "display_name": ".venv",
   "language": "python",
   "name": "python3"
  },
  "language_info": {
   "codemirror_mode": {
    "name": "ipython",
    "version": 3
   },
   "file_extension": ".py",
   "mimetype": "text/x-python",
   "name": "python",
   "nbconvert_exporter": "python",
   "pygments_lexer": "ipython3",
   "version": "3.13.3"
  }
 },
 "nbformat": 4,
 "nbformat_minor": 5
}
