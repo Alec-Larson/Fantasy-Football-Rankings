{
 "cells": [
  {
   "cell_type": "markdown",
   "id": "ab924d18",
   "metadata": {},
   "source": [
    "### Importing Packages and Loading Data"
   ]
  },
  {
   "cell_type": "code",
   "execution_count": 47,
   "id": "9a2429cb",
   "metadata": {},
   "outputs": [],
   "source": [
    "import pandas as pd\n",
    "import numpy as np"
   ]
  },
  {
   "cell_type": "markdown",
   "id": "62b3204f",
   "metadata": {},
   "source": [
    "#### Loading General Fantasy Stats"
   ]
  },
  {
   "cell_type": "code",
   "execution_count": 48,
   "id": "3b17e5ac",
   "metadata": {},
   "outputs": [],
   "source": [
    "Fantasy_FB_Data_Raw24 = pd.read_csv('/Users/alexanderlarson/Desktop/Python Projects/Fantasy Football Rankings/Fantasyfb_Data/Fantasy FB Data 2024.csv')\n",
    "Fantasy_FB_Data_Raw23 = pd.read_csv('/Users/alexanderlarson/Desktop/Python Projects/Fantasy Football Rankings/Fantasyfb_Data/Fantasy FB Data 2023.csv')\n",
    "Fantasy_FB_Data_Raw22 = pd.read_csv('/Users/alexanderlarson/Desktop/Python Projects/Fantasy Football Rankings/Fantasyfb_Data/Fantasy FB Data 2022.csv')\n",
    "Fantasy_FB_Data_Raw21 = pd.read_csv('/Users/alexanderlarson/Desktop/Python Projects/Fantasy Football Rankings/Fantasyfb_Data/Fantasy FB Data 2021.csv')\n",
    "Fantasy_FB_Data_Raw20 = pd.read_csv('/Users/alexanderlarson/Desktop/Python Projects/Fantasy Football Rankings/Fantasyfb_Data/Fantasy FB Data 2020.csv')\n",
    "Fantasy_FB_Data_Raw19 = pd.read_csv('/Users/alexanderlarson/Desktop/Python Projects/Fantasy Football Rankings/Fantasyfb_Data/Fantasy FB Data 2019.csv')\n",
    "Fantasy_FB_Data_Raw18 = pd.read_csv('/Users/alexanderlarson/Desktop/Python Projects/Fantasy Football Rankings/Fantasyfb_Data/Fantasy FB Data 2018.csv')\n",
    "Fantasy_FB_Data_Raw17 = pd.read_csv('/Users/alexanderlarson/Desktop/Python Projects/Fantasy Football Rankings/Fantasyfb_Data/Fantasy FB Data 2017.csv')\n",
    "FFBD2024 = Fantasy_FB_Data_Raw24.drop('Rk', axis=1)\n",
    "FFBD2024.set_index('Player', inplace=True)\n",
    "FFBD2023 = Fantasy_FB_Data_Raw23.drop('Rk', axis=1)\n",
    "FFBD2023.set_index('Player', inplace=True)\n",
    "FFBD2022 = Fantasy_FB_Data_Raw22.drop('Rk', axis=1)\n",
    "FFBD2022.set_index('Player', inplace=True)\n",
    "FFBD2021 = Fantasy_FB_Data_Raw21.drop('Rk', axis=1)\n",
    "FFBD2021.set_index('Player', inplace=True)\n",
    "FFBD2020 = Fantasy_FB_Data_Raw20.drop('Rk', axis=1)\n",
    "FFBD2020.set_index('Player', inplace=True)\n",
    "FFBD2019 = Fantasy_FB_Data_Raw19.drop('Rk', axis=1)\n",
    "FFBD2019.set_index('Player', inplace=True)\n",
    "FFBD2018 = Fantasy_FB_Data_Raw18.drop('Rk', axis=1)\n",
    "FFBD2018.set_index('Player', inplace=True)\n",
    "FFBD2017 = Fantasy_FB_Data_Raw17.drop('Rk', axis=1)\n",
    "FFBD2017.set_index('Player', inplace=True)"
   ]
  },
  {
   "cell_type": "markdown",
   "id": "c26d257e",
   "metadata": {},
   "source": [
    "#### Loading Snap Count Data"
   ]
  },
  {
   "cell_type": "code",
   "execution_count": 49,
   "id": "6d3de9e4",
   "metadata": {},
   "outputs": [],
   "source": [
    "Fantasy_FB_Data_RawSnap24 = pd.read_csv('/Users/alexanderlarson/Desktop/Python Projects/Fantasy Football Rankings/Fantasyfb_Data/FFBD2024_SNAPS.csv')\n",
    "Fantasy_FB_Data_RawSnap23 = pd.read_csv('/Users/alexanderlarson/Desktop/Python Projects/Fantasy Football Rankings/Fantasyfb_Data/FFBD2023_SNAPS.csv')\n",
    "Fantasy_FB_Data_RawSnap22 = pd.read_csv('/Users/alexanderlarson/Desktop/Python Projects/Fantasy Football Rankings/Fantasyfb_Data/FFBD2022_SNAPS.csv')\n",
    "Fantasy_FB_Data_RawSnap21 = pd.read_csv('/Users/alexanderlarson/Desktop/Python Projects/Fantasy Football Rankings/Fantasyfb_Data/FFBD2021_SNAPS.csv')\n",
    "Fantasy_FB_Data_RawSnap20 = pd.read_csv('/Users/alexanderlarson/Desktop/Python Projects/Fantasy Football Rankings/Fantasyfb_Data/FFBD2020_SNAPS.csv')\n",
    "Fantasy_FB_Data_RawSnap19 = pd.read_csv('/Users/alexanderlarson/Desktop/Python Projects/Fantasy Football Rankings/Fantasyfb_Data/FFBD2019_SNAPS.csv')\n",
    "Fantasy_FB_Data_RawSnap18 = pd.read_csv('/Users/alexanderlarson/Desktop/Python Projects/Fantasy Football Rankings/Fantasyfb_Data/FFBD2018_SNAPS.csv')\n",
    "Fantasy_FB_Data_RawSnap17 = pd.read_csv('/Users/alexanderlarson/Desktop/Python Projects/Fantasy Football Rankings/Fantasyfb_Data/FFBD2017_SNAPS.csv')\n",
    "Weeks_18 = ['Week 1','Week 2','Week 3','Week 4','Week 5','Week 6','Week 7','Week 8','Week 9','Week 10','Week 11','Week 12','Week 13','Week 14','Week 15','Week 16','Week 17', 'Week 18']\n",
    "Weeks_17 = ['Week 1','Week 2','Week 3','Week 4','Week 5','Week 6','Week 7','Week 8','Week 9','Week 10','Week 11','Week 12','Week 13','Week 14','Week 15','Week 16','Week 17']\n",
    "FFBD2024snp = Fantasy_FB_Data_RawSnap24.drop(columns=Weeks_18)\n",
    "FFBD2023snp = Fantasy_FB_Data_RawSnap23.drop(columns=Weeks_18)\n",
    "FFBD2022snp = Fantasy_FB_Data_RawSnap22.drop(columns=Weeks_18)\n",
    "FFBD2021snp = Fantasy_FB_Data_RawSnap21.drop(columns=Weeks_18)\n",
    "FFBD2020snp = Fantasy_FB_Data_RawSnap20.drop(columns=Weeks_17)\n",
    "FFBD2019snp = Fantasy_FB_Data_RawSnap19.drop(columns=Weeks_17)\n",
    "FFBD2018snp = Fantasy_FB_Data_RawSnap18.drop(columns=Weeks_17)\n",
    "FFBD2017snp = Fantasy_FB_Data_RawSnap17.drop(columns=Weeks_17)"
   ]
  },
  {
   "cell_type": "markdown",
   "id": "1613d173",
   "metadata": {},
   "source": [
    "#### Standardize column names"
   ]
  },
  {
   "cell_type": "code",
   "execution_count": 50,
   "id": "22cf849a",
   "metadata": {},
   "outputs": [],
   "source": [
    "# I renamed some super-headers in excel before importing and added to column names. \n",
    "# Made a few errors which this fixes.\n",
    "\n",
    "FFBD2024.rename(columns = {'Tgt (Rec)' : 'Tgt'}, inplace = True)\n",
    "FFBD2024.rename(columns = {'Y/A (Rush)' : 'Y/A'}, inplace = True)\n",
    "FFBD2024.rename(columns = {'Receptions' : 'Rec'}, inplace = True)\n",
    "FFBD2021.rename(columns = {'Att. (Pass)' : 'Att (Pass)'}, inplace = True)\n",
    "FFBD2017.rename(columns = {'Yds  (Rush)' : 'Yds (Rush)'}, inplace = True)\n",
    "FFBD2017.rename(columns = {'TD  (Rush)' : 'TD (Rush)'}, inplace = True)\n",
    "\n",
    "#Standardizes column names in snap count data for merging with other data\n",
    "Rename_dict = {\n",
    "    'NAME' : 'Player',\n",
    "    'Avg' : 'Avg Snaps',\n",
    "    'Total' : 'Total Snaps'\n",
    "}\n",
    "def rename_columns(df, rename_map):\n",
    "    df.rename(columns=rename_map, inplace=True)\n",
    "Basedfs = [FFBD2024,FFBD2023,FFBD2022,FFBD2021,FFBD2020,FFBD2019,FFBD2018,FFBD2017]\n",
    "dfs = [FFBD2024snp, FFBD2023snp, FFBD2022snp, FFBD2021snp, FFBD2020snp, FFBD2019snp, FFBD2018snp, FFBD2017snp]\n",
    "for df in dfs:\n",
    "    rename_columns(df, Rename_dict)\n",
    "\n",
    "#Set the index in snap count data equal to 'Player' column\n",
    "for df in dfs:\n",
    "    df.set_index('Player', inplace=True)"
   ]
  },
  {
   "cell_type": "markdown",
   "id": "4ec7617e",
   "metadata": {},
   "source": [
    "#### Removing players with missing stats, dropping duplicates, filling naN in 2-point conversion columns"
   ]
  },
  {
   "cell_type": "code",
   "execution_count": 51,
   "id": "74ddf1a5",
   "metadata": {},
   "outputs": [],
   "source": [
    "def clean_FFBD(df):\n",
    "    df = df[~(df[['Cmp', 'Att (Pass)', 'Tgt']].isna().all(axis=1))]\n",
    "    df = df.drop_duplicates()\n",
    "    df[['2PM', '2PP']] = df[['2PM', '2PP']].fillna(0.0)\n",
    "    df.index = df.index.str.rstrip('*+')\n",
    "    df.index = df.index.str.replace(r'\\sJr\\.$', '', regex = True)\n",
    "    df.index = df.index.str.replace(r'\\sSr\\.$', '', regex = True) \n",
    "    df.index = df.index.str.replace(r'\\.', '', regex = True)\n",
    "    df.index = df.index.str.replace(r'\\sIII$', '', regex = True)\n",
    "    df.index = df.index.str.replace(r'\\sII$', '', regex = True)\n",
    "    df.index = df.index.str.replace(r'\\sIV$', '', regex = True)\n",
    "    df.index = df.index.str.replace(r'\\sV$', '', regex = True)\n",
    "    df.index = df.index.str.upper().str.strip()\n",
    "    df = df[df['FantPos'] != 'FB']\n",
    "    return df\n",
    "\n",
    "FFBD2024 = clean_FFBD(FFBD2024)\n",
    "FFBD2023 = clean_FFBD(FFBD2023)\n",
    "FFBD2022 = clean_FFBD(FFBD2022)\n",
    "FFBD2021 = clean_FFBD(FFBD2021)\n",
    "FFBD2020 = clean_FFBD(FFBD2020)\n",
    "FFBD2019 = clean_FFBD(FFBD2019)\n",
    "FFBD2018 = clean_FFBD(FFBD2018)\n",
    "FFBD2017 = clean_FFBD(FFBD2017)"
   ]
  },
  {
   "cell_type": "markdown",
   "id": "ab5e481c",
   "metadata": {},
   "source": [
    "#### Removing naN for 'PPR' column, since my fantasy football league is PPR"
   ]
  },
  {
   "cell_type": "code",
   "execution_count": 52,
   "id": "7ebb5e5f",
   "metadata": {},
   "outputs": [],
   "source": [
    "def remove_PPRna(df):\n",
    "    df = df[~(df['PPR'].isna())]\n",
    "    return df\n",
    "FFBD2024 = remove_PPRna(FFBD2024)\n",
    "FFBD2023 = remove_PPRna(FFBD2023)\n",
    "FFBD2022 = remove_PPRna(FFBD2022)\n",
    "FFBD2021 = remove_PPRna(FFBD2021)\n",
    "FFBD2020 = remove_PPRna(FFBD2020)\n",
    "FFBD2019 = remove_PPRna(FFBD2019)\n",
    "FFBD2018 = remove_PPRna(FFBD2018)\n",
    "FFBD2017 = remove_PPRna(FFBD2017)"
   ]
  },
  {
   "cell_type": "markdown",
   "id": "39971b9e",
   "metadata": {},
   "source": [
    "#### Add year to player name (to be tunred into year column once merged)"
   ]
  },
  {
   "cell_type": "code",
   "execution_count": 53,
   "id": "40580069",
   "metadata": {},
   "outputs": [],
   "source": [
    "for df in dfs:\n",
    "    df.index = df.index.str.replace(r'\\sJr\\.$', '', regex = True)\n",
    "    df.index = df.index.str.replace(r'\\sSr\\.$', '', regex = True) \n",
    "    df.index = df.index.str.replace(r'\\.', '', regex = True)\n",
    "    df.index = df.index.str.replace(r'\\sIII$', '', regex = True)\n",
    "    df.index = df.index.str.replace(r'\\sII$', '', regex = True)\n",
    "    df.index = df.index.str.replace(r'\\sIV$', '', regex = True)\n",
    "    df.index = df.index.str.replace(r'\\sV$', '', regex = True)\n",
    "    df.index = df.index.str.upper().str.strip()\n",
    "\n",
    "FFBD2024.index = FFBD2024.index + '_2024'\n",
    "FFBD2023.index = FFBD2023.index + '_2023'\n",
    "FFBD2022.index = FFBD2022.index + '_2022'\n",
    "FFBD2021.index = FFBD2021.index + '_2021'\n",
    "FFBD2020.index = FFBD2020.index + '_2020'\n",
    "FFBD2019.index = FFBD2019.index + '_2019'\n",
    "FFBD2018.index = FFBD2018.index + '_2018'\n",
    "FFBD2017.index = FFBD2017.index + '_2017'\n",
    "\n",
    "FFBD2024snp.index = FFBD2024snp.index + '_2024'\n",
    "FFBD2023snp.index = FFBD2023snp.index + '_2023'\n",
    "FFBD2022snp.index = FFBD2022snp.index + '_2022'\n",
    "FFBD2021snp.index = FFBD2021snp.index + '_2021'\n",
    "FFBD2020snp.index = FFBD2020snp.index + '_2020'\n",
    "FFBD2019snp.index = FFBD2019snp.index + '_2019'\n",
    "FFBD2018snp.index = FFBD2018snp.index + '_2018'\n",
    "FFBD2017snp.index = FFBD2017snp.index + '_2017'"
   ]
  },
  {
   "cell_type": "markdown",
   "id": "cda16ef9",
   "metadata": {},
   "source": [
    "#### Merging the data"
   ]
  },
  {
   "cell_type": "code",
   "execution_count": 54,
   "id": "e3b8e6c8",
   "metadata": {},
   "outputs": [],
   "source": [
    "FFBD_Merged = pd.concat([FFBD2024, FFBD2023, FFBD2022, FFBD2021, FFBD2020, FFBD2019, FFBD2018, FFBD2017])\n",
    "FFBDsnp_Merged = pd.concat(dfs)"
   ]
  },
  {
   "cell_type": "code",
   "execution_count": 55,
   "id": "bc87a111",
   "metadata": {},
   "outputs": [],
   "source": [
    "FFBD_Merged.drop(columns = ['OvRank', 'PosRank', 'VBD', 'FDPt', 'DKPt', 'FantPt'], inplace=True)\n",
    "FFBDsnp_Merged.drop(columns = ['POS','TEAM', 'DEPTH', 'TD'], inplace=True)"
   ]
  },
  {
   "cell_type": "code",
   "execution_count": 56,
   "id": "983b0ff9",
   "metadata": {},
   "outputs": [],
   "source": [
    "# Final correction of prominent player names before final merge\n",
    "FFBDsnp_Merged.index = FFBDsnp_Merged.index.str.replace(r'CHIG OKONKWO','CHIGOZIEM OKONKWO')\n",
    "FFBDsnp_Merged.index = FFBDsnp_Merged.index.str.replace(r'DEE ESKRIDGE','D\\'WAYNE ESKRIDGE')\n",
    "FFBDsnp_Merged.index = FFBDsnp_Merged.index.str.replace(r'GABE DAVIS','GABRIEL DAVIS')\n",
    "FFBDsnp_Merged.index = FFBDsnp_Merged.index.str.replace(r'JOSHUA PALMER','JOSH PALMER')\n",
    "FFBDsnp_Merged.index = FFBDsnp_Merged.index.str.replace(r'MITCH TRUBISKY','MITCHELL TRUBISKY')\n",
    "FFBDsnp_Merged.index = FFBDsnp_Merged.index.str.replace(r'SCOTTY MILLER','SCOTT MILLER')"
   ]
  },
  {
   "cell_type": "markdown",
   "id": "643f1c64",
   "metadata": {},
   "source": [
    "### Final Merge"
   ]
  },
  {
   "cell_type": "code",
   "execution_count": 57,
   "id": "07acb54e",
   "metadata": {},
   "outputs": [],
   "source": [
    "FFBD_tot = pd.merge(FFBD_Merged, FFBDsnp_Merged, left_index=True, right_index=True, how = 'inner')"
   ]
  },
  {
   "cell_type": "markdown",
   "id": "e4af58a9",
   "metadata": {},
   "source": [
    "#### Creating PPR (Pass), PPR(Rush), PPR(Rec), and other helpful insights"
   ]
  },
  {
   "cell_type": "code",
   "execution_count": 58,
   "id": "75422aa6",
   "metadata": {},
   "outputs": [],
   "source": [
    "\n",
    "# Passing\n",
    "mask = (FFBD_tot['Att (Pass)'] !=0) & (pd.notna(FFBD_tot['Att (Pass)']))\n",
    "FFBD_tot['PPR (Pass)'] = (FFBD_tot['TD (Pass)'] * 4) + (FFBD_tot['Yds (Pass)'] * 0.04) + (FFBD_tot['Int']* -2)\n",
    "FFBD_tot.loc[mask, 'PPR_PassAtt'] = FFBD_tot.loc[mask, 'PPR (Pass)'] / FFBD_tot.loc[mask, 'Att (Pass)']\n",
    "FFBD_tot.loc[mask, 'Y/A (Pass)'] = FFBD_tot.loc[mask, 'Yds (Pass)'] / FFBD_tot.loc[mask, 'Att (Pass)']\n",
    "\n",
    "\n",
    "# Rushing\n",
    "mask = (FFBD_tot['Att (Rush)'] !=0) & (pd.notna(FFBD_tot['Att (Rush)']))\n",
    "FFBD_tot['PPR (Rush)'] = (FFBD_tot['TD (Rush)'] * 6) + (FFBD_tot['Yds (Rush)'] * 0.1)\n",
    "FFBD_tot.loc[mask, 'PPR_RushAtt'] = FFBD_tot.loc[mask, 'PPR (Rush)'] / FFBD_tot.loc[mask, 'Att (Rush)']\n",
    "\n",
    "# Receiving\n",
    "FFBD_tot['PPR (Rec)'] = FFBD_tot['Rec'] + (FFBD_tot['Yds (Rec)'] * 0.04) + (FFBD_tot['TD (Rec)'] * 6)\n",
    "mask = (FFBD_tot['Tgt'] !=0) & (pd.notna(FFBD_tot['Tgt']))\n",
    "FFBD_tot.loc[mask, 'PPR_Tgt'] = FFBD_tot.loc[mask, 'PPR (Rec)'] / FFBD_tot.loc[mask, 'Tgt']\n",
    "\n",
    "mask = (FFBD_tot['Rec'] !=0) & (pd.notna(FFBD_tot['Rec']))\n",
    "FFBD_tot.loc[mask, 'PPR_Rec'] = FFBD_tot.loc[mask, 'PPR (Rec)'] / FFBD_tot.loc[mask, 'Rec']\n",
    "\n",
    "# Snap Count\n",
    "mask = (FFBD_tot['Total Snaps'] !=0) & (pd.notna(FFBD_tot['Total Snaps']))\n",
    "FFBD_tot.loc[mask, 'PPR_Snap'] = FFBD_tot.loc[mask, 'PPR'] / FFBD_tot.loc[mask, 'Total Snaps']"
   ]
  },
  {
   "cell_type": "markdown",
   "id": "99ea0375",
   "metadata": {},
   "source": [
    "#### Creating Passer Rating Column"
   ]
  },
  {
   "cell_type": "code",
   "execution_count": 59,
   "id": "d261e3e0",
   "metadata": {},
   "outputs": [],
   "source": [
    "mask = (FFBD_tot['Att (Pass)'] !=0) & (pd.notna(FFBD_tot['Att (Pass)']))\n",
    "\n",
    "FFBD_tot.loc[mask, 'Y/A_rate'] = ((FFBD_tot.loc[mask, 'Yds (Pass)'] / FFBD_tot.loc[mask, 'Att (Pass)']) - 3) * 5\n",
    "FFBD_tot.loc[mask, 'Cmp_rate'] = ((FFBD_tot.loc[mask, 'Cmp'] / FFBD_tot.loc[mask, 'Att (Pass)']) - 0.3) * 0.25\n",
    "FFBD_tot.loc[mask, 'TD_rate'] = (FFBD_tot.loc[mask, 'TD (Pass)'] / FFBD_tot.loc[mask, 'Att (Pass)']) * 20\n",
    "FFBD_tot.loc[mask, 'Int_rate'] = 2.375 - (FFBD_tot.loc[mask, 'Int'] / FFBD_tot.loc[mask, 'Att (Pass)']) * 25\n",
    "\n",
    "Rates = ['Y/A_rate', 'Cmp_rate', 'TD_rate', 'Int_rate']\n",
    "FFBD_tot[Rates] = FFBD_tot[Rates].clip(lower=0, upper=2.375)\n",
    "    \n",
    "FFBD_tot['Passer_Rating'] = (FFBD_tot['Y/A_rate'] + FFBD_tot['Cmp_rate'] + FFBD_tot['TD_rate'] + FFBD_tot['Int_rate'])/6 * 100\n",
    "\n",
    "FFBD_tot.drop(columns=Rates, inplace=True)"
   ]
  },
  {
   "cell_type": "markdown",
   "id": "1c1aea90",
   "metadata": {},
   "source": [
    "#### Creating Year Column"
   ]
  },
  {
   "cell_type": "code",
   "execution_count": 60,
   "id": "d0a06e40",
   "metadata": {},
   "outputs": [],
   "source": [
    "FFBD_tot['Year'] = FFBD_tot.index.str.split('_').str[1]\n",
    "FFBD_tot.index = FFBD_tot.index.str[:-5]"
   ]
  },
  {
   "cell_type": "markdown",
   "id": "e73e3be9",
   "metadata": {},
   "source": [
    "#### Export to data folder"
   ]
  },
  {
   "cell_type": "code",
   "execution_count": 61,
   "id": "088db45c",
   "metadata": {},
   "outputs": [],
   "source": [
    "FFBD_tot.to_csv('/Users/alexanderlarson/Desktop/Python Projects/Fantasy Football Rankings/Fantasyfb_Data/FFBD_tot.csv')"
   ]
  }
 ],
 "metadata": {
  "kernelspec": {
   "display_name": ".venv",
   "language": "python",
   "name": "python3"
  },
  "language_info": {
   "codemirror_mode": {
    "name": "ipython",
    "version": 3
   },
   "file_extension": ".py",
   "mimetype": "text/x-python",
   "name": "python",
   "nbconvert_exporter": "python",
   "pygments_lexer": "ipython3",
   "version": "3.13.3"
  }
 },
 "nbformat": 4,
 "nbformat_minor": 5
}
