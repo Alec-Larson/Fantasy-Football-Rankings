{
 "cells": [
  {
   "cell_type": "code",
   "execution_count": 6,
   "id": "9a2429cb",
   "metadata": {},
   "outputs": [],
   "source": [
    "\n",
    "# Importing Data + Packages:\n",
    "\n",
    "import pandas as pd\n",
    "import numpy as np\n",
    "Fantasy_FB_Data_Raw = pd.read_csv('/Users/alexanderlarson/Desktop/Data Sets/Fantasy FB Data 2024.csv')\n",
    "FFBD = Fantasy_FB_Data_Raw\n",
    "FFBD = FFBD.set_index('Rk')"
   ]
  },
  {
   "cell_type": "code",
   "execution_count": null,
   "id": "74ddf1a5",
   "metadata": {},
   "outputs": [],
   "source": [
    "# Cleaning data:\n",
    "\n",
    "for index, row in FFBD.iterrows():\n",
    "    if pd.isna(row['Cmp']) or pd.isna(row['Att (Pass)']) or pd.isna(row['Yds (Pass)']):\n",
    "        print(row['Player'])\n",
    "\n",
    "FFBD = FFBD.drop([581,582])\n",
    "\n",
    "for index, row in FFBD.iterrows():\n",
    "    if pd.isna(row['PPR']):\n",
    "        FFBD = FFBD.drop(index)\n",
    "\n",
    "Fill_na = ['2PM', '2PP']\n",
    "FFBD[Fill_na] = FFBD[Fill_na].fillna(0.0)\n",
    "\n",
    "print(FFBD.loc[5])\n",
    "\n",
    "\n",
    "\n"
   ]
  },
  {
   "cell_type": "code",
   "execution_count": null,
   "id": "34ba6c50",
   "metadata": {},
   "outputs": [],
   "source": [
    "# Creating data tables by position:\n",
    "\n",
    "FFBD_QB = FFBD[FFBD['FantPos'] == 'QB']\n",
    "FFBD_RB = FFBD[FFBD['FantPos'] == 'RB']\n",
    "FFBD_WR = FFBD[FFBD['FantPos'] == 'WR']\n",
    "FFBD_TE = FFBD[FFBD['FantPos'] == 'TE']"
   ]
  }
 ],
 "metadata": {
  "kernelspec": {
   "display_name": ".venv",
   "language": "python",
   "name": "python3"
  },
  "language_info": {
   "codemirror_mode": {
    "name": "ipython",
    "version": 3
   },
   "file_extension": ".py",
   "mimetype": "text/x-python",
   "name": "python",
   "nbconvert_exporter": "python",
   "pygments_lexer": "ipython3",
   "version": "3.13.3"
  }
 },
 "nbformat": 4,
 "nbformat_minor": 5
}
