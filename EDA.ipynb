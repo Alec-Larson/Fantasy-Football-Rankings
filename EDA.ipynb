{
 "cells": [
  {
   "cell_type": "markdown",
   "id": "345165d5",
   "metadata": {},
   "source": [
    "#### Group by and Aggregate"
   ]
  },
  {
   "cell_type": "code",
   "execution_count": 2,
   "id": "2d221054",
   "metadata": {},
   "outputs": [],
   "source": [
    "import pandas as pd\n",
    "import numpy as np\n",
    "FFBDclean = pd.read_csv('/Users/alexanderlarson/Desktop/Python Projects/Fantasy Football Rankings/FFBDcleaned.csv')"
   ]
  },
  {
   "cell_type": "code",
   "execution_count": 3,
   "id": "741b405c",
   "metadata": {},
   "outputs": [
    {
     "data": {
      "application/vnd.microsoft.datawrangler.viewer.v0+json": {
       "columns": [
        {
         "name": "FantPos",
         "rawType": "object",
         "type": "string"
        },
        {
         "name": "('PPR', 'mean')",
         "rawType": "float64",
         "type": "float"
        },
        {
         "name": "('PPR', 'max')",
         "rawType": "float64",
         "type": "float"
        },
        {
         "name": "('PPR', 'count')",
         "rawType": "int64",
         "type": "integer"
        },
        {
         "name": "('PPR', 'sum')",
         "rawType": "float64",
         "type": "float"
        }
       ],
       "ref": "3b12353e-08e4-41f2-b487-c26442252baf",
       "rows": [
        [
         "QB",
         "117.24743589743589",
         "430.4",
         "78",
         "9145.3"
        ],
        [
         "RB",
         "88.60597014925374",
         "362.9",
         "134",
         "11873.2"
        ],
        [
         "TE",
         "58.00173913043478",
         "262.7",
         "115",
         "6670.2"
        ],
        [
         "WR",
         "82.95707762557078",
         "403.0",
         "219",
         "18167.6"
        ]
       ],
       "shape": {
        "columns": 4,
        "rows": 4
       }
      },
      "text/html": [
       "<div>\n",
       "<style scoped>\n",
       "    .dataframe tbody tr th:only-of-type {\n",
       "        vertical-align: middle;\n",
       "    }\n",
       "\n",
       "    .dataframe tbody tr th {\n",
       "        vertical-align: top;\n",
       "    }\n",
       "\n",
       "    .dataframe thead tr th {\n",
       "        text-align: left;\n",
       "    }\n",
       "\n",
       "    .dataframe thead tr:last-of-type th {\n",
       "        text-align: right;\n",
       "    }\n",
       "</style>\n",
       "<table border=\"1\" class=\"dataframe\">\n",
       "  <thead>\n",
       "    <tr>\n",
       "      <th></th>\n",
       "      <th colspan=\"4\" halign=\"left\">PPR</th>\n",
       "    </tr>\n",
       "    <tr>\n",
       "      <th></th>\n",
       "      <th>mean</th>\n",
       "      <th>max</th>\n",
       "      <th>count</th>\n",
       "      <th>sum</th>\n",
       "    </tr>\n",
       "    <tr>\n",
       "      <th>FantPos</th>\n",
       "      <th></th>\n",
       "      <th></th>\n",
       "      <th></th>\n",
       "      <th></th>\n",
       "    </tr>\n",
       "  </thead>\n",
       "  <tbody>\n",
       "    <tr>\n",
       "      <th>QB</th>\n",
       "      <td>117.247436</td>\n",
       "      <td>430.4</td>\n",
       "      <td>78</td>\n",
       "      <td>9145.3</td>\n",
       "    </tr>\n",
       "    <tr>\n",
       "      <th>RB</th>\n",
       "      <td>88.605970</td>\n",
       "      <td>362.9</td>\n",
       "      <td>134</td>\n",
       "      <td>11873.2</td>\n",
       "    </tr>\n",
       "    <tr>\n",
       "      <th>TE</th>\n",
       "      <td>58.001739</td>\n",
       "      <td>262.7</td>\n",
       "      <td>115</td>\n",
       "      <td>6670.2</td>\n",
       "    </tr>\n",
       "    <tr>\n",
       "      <th>WR</th>\n",
       "      <td>82.957078</td>\n",
       "      <td>403.0</td>\n",
       "      <td>219</td>\n",
       "      <td>18167.6</td>\n",
       "    </tr>\n",
       "  </tbody>\n",
       "</table>\n",
       "</div>"
      ],
      "text/plain": [
       "                PPR                      \n",
       "               mean    max count      sum\n",
       "FantPos                                  \n",
       "QB       117.247436  430.4    78   9145.3\n",
       "RB        88.605970  362.9   134  11873.2\n",
       "TE        58.001739  262.7   115   6670.2\n",
       "WR        82.957078  403.0   219  18167.6"
      ]
     },
     "execution_count": 3,
     "metadata": {},
     "output_type": "execute_result"
    }
   ],
   "source": [
    "FFBDclean.groupby('FantPos').agg({'PPR': ['mean', 'max', 'count', 'sum']})"
   ]
  }
 ],
 "metadata": {
  "kernelspec": {
   "display_name": ".venv",
   "language": "python",
   "name": "python3"
  },
  "language_info": {
   "codemirror_mode": {
    "name": "ipython",
    "version": 3
   },
   "file_extension": ".py",
   "mimetype": "text/x-python",
   "name": "python",
   "nbconvert_exporter": "python",
   "pygments_lexer": "ipython3",
   "version": "3.13.3"
  }
 },
 "nbformat": 4,
 "nbformat_minor": 5
}
