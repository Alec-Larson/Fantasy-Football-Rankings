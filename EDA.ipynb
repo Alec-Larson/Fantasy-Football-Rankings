{
 "cells": [
  {
   "cell_type": "markdown",
   "id": "345165d5",
   "metadata": {},
   "source": [
    "#### Group by and Aggregate"
   ]
  },
  {
   "cell_type": "code",
   "execution_count": 2,
   "id": "2d221054",
   "metadata": {},
   "outputs": [],
   "source": [
    "import pandas as pd\n",
    "import numpy as np\n",
    "import seaborn as sns\n",
    "import matplotlib.pyplot as plt\n",
    "FFBDclean = pd.read_csv('/Users/alexanderlarson/Desktop/Python Projects/Fantasy Football Rankings/Fantasyfb_Data/FFBDcleaned.csv')\n",
    "FFBDQBs = pd.read_csv('/Users/alexanderlarson/Desktop/Python Projects/Fantasy Football Rankings/Fantasyfb_Data/FFBDQBs.csv')\n",
    "FFBDRBs = pd.read_csv('/Users/alexanderlarson/Desktop/Python Projects/Fantasy Football Rankings/Fantasyfb_Data/FFBDRBs.csv')\n",
    "FFBDWRs = pd.read_csv('/Users/alexanderlarson/Desktop/Python Projects/Fantasy Football Rankings/Fantasyfb_Data/FFBDWRs.csv')\n",
    "FFBDTEs = pd.read_csv('/Users/alexanderlarson/Desktop/Python Projects/Fantasy Football Rankings/Fantasyfb_Data/FFBDTEs.csv')"
   ]
  },
  {
   "cell_type": "code",
   "execution_count": null,
   "id": "741b405c",
   "metadata": {},
   "outputs": [],
   "source": [
    "FFBDclean.groupby('FantPos').agg({'PPR': ['mean', 'max', 'count', 'sum']})"
   ]
  },
  {
   "cell_type": "code",
   "execution_count": null,
   "id": "13b3f6ef",
   "metadata": {},
   "outputs": [],
   "source": []
  }
 ],
 "metadata": {
  "kernelspec": {
   "display_name": ".venv",
   "language": "python",
   "name": "python3"
  },
  "language_info": {
   "codemirror_mode": {
    "name": "ipython",
    "version": 3
   },
   "file_extension": ".py",
   "mimetype": "text/x-python",
   "name": "python",
   "nbconvert_exporter": "python",
   "pygments_lexer": "ipython3",
   "version": "3.13.3"
  }
 },
 "nbformat": 4,
 "nbformat_minor": 5
}
